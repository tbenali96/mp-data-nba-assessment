{
 "cells": [
  {
   "cell_type": "markdown",
   "id": "5ced90fc",
   "metadata": {},
   "source": [
    "## Import des librairies"
   ]
  },
  {
   "cell_type": "code",
   "execution_count": null,
   "id": "97e1af5d",
   "metadata": {},
   "outputs": [],
   "source": [
    "import pandas as pd \n",
    "from sklearn.model_selection import train_test_split, GridSearchCV\n",
    "from sklearn.linear_model import LogisticRegression, SGDClassifier\n",
    "from sklearn.svm import SVC\n",
    "import lightgbm as lgb\n",
    "from sklearn.tree import DecisionTreeClassifier\n",
    "from sklearn.ensemble import RandomForestClassifier\n",
    "from pickle import dump\n",
    "import numpy as np\n",
    "from sklearn.model_selection import KFold\n",
    "from sklearn.metrics import classification_report, recall_score, confusion_matrix, make_scorer\n",
    "\n",
    "pd.set_option('display.max_rows', None)\n",
    "pd.set_option('display.max_columns', None)"
   ]
  },
  {
   "cell_type": "markdown",
   "id": "21f01f75",
   "metadata": {},
   "source": [
    "## Chargement des données"
   ]
  },
  {
   "cell_type": "code",
   "execution_count": null,
   "id": "4e02334e",
   "metadata": {},
   "outputs": [],
   "source": [
    "data = pd.read_csv(\"../data/processed/processed_data.csv\")\n",
    "data.head()"
   ]
  },
  {
   "cell_type": "code",
   "execution_count": null,
   "id": "a0db1fe1",
   "metadata": {},
   "outputs": [],
   "source": [
    "X = data.drop(columns=['TARGET_5Yrs'])\n",
    "y = data['TARGET_5Yrs']"
   ]
  },
  {
   "cell_type": "markdown",
   "id": "49d95aea",
   "metadata": {},
   "source": [
    "## Entraînement et choix des modèles"
   ]
  },
  {
   "cell_type": "code",
   "execution_count": null,
   "id": "2d982f9e",
   "metadata": {},
   "outputs": [],
   "source": [
    "X_train, X_test, y_train, y_test = train_test_split(X, y, test_size=0.2, random_state=0)"
   ]
  },
  {
   "cell_type": "markdown",
   "id": "100c5d2d",
   "metadata": {},
   "source": [
    "Cette métrique est proposée par MPData pour évaluer les modèles. Elle évalue le rappel du modèle avec une stratégie de validation croisée avec 3 folds. Ceci est pris en compte dans l'utilisation du GridSearch pour l'optimisation des hyperparamètres."
   ]
  },
  {
   "cell_type": "code",
   "execution_count": null,
   "id": "31e736f4",
   "metadata": {},
   "outputs": [],
   "source": [
    "def score_classifier(dataset,classifier,labels):\n",
    "\n",
    "    \"\"\"\n",
    "    performs 3 random trainings/tests to build a confusion matrix and prints results with precision and recall scores\n",
    "    :param dataset: the dataset to work on\n",
    "    :param classifier: the classifier to use\n",
    "    :param labels: the labels used for training and validation\n",
    "    :return:\n",
    "    \"\"\"\n",
    "\n",
    "    kf = KFold(n_splits=3,random_state=50,shuffle=True)\n",
    "    confusion_mat = np.zeros((2,2))\n",
    "    recall = 0\n",
    "    for training_ids,test_ids in kf.split(dataset):\n",
    "        training_set = dataset[training_ids]\n",
    "        training_labels = labels[training_ids]\n",
    "        test_set = dataset[test_ids]\n",
    "        test_labels = labels[test_ids]\n",
    "        classifier.fit(training_set,training_labels)\n",
    "        predicted_labels = classifier.predict(test_set)\n",
    "        confusion_mat+=confusion_matrix(test_labels,predicted_labels)\n",
    "        recall += recall_score(test_labels, predicted_labels)\n",
    "    recall/=3\n",
    "    print(confusion_mat)\n",
    "    print(recall)"
   ]
  },
  {
   "cell_type": "markdown",
   "id": "f3d19b9a",
   "metadata": {},
   "source": [
    "### I. Optimisation des hyperparamètres pour chaque modèle"
   ]
  },
  {
   "cell_type": "markdown",
   "id": "f1bc21d7",
   "metadata": {},
   "source": [
    "#### 1- Logistic Regression"
   ]
  },
  {
   "cell_type": "code",
   "execution_count": null,
   "id": "c99bd80f",
   "metadata": {},
   "outputs": [],
   "source": [
    "grid_lr = {\"C\":np.logspace(-4,0,5), \n",
    "           \"penalty\":[\"l1\",\"l2\"],\n",
    "           \"solver\": [\"lbfgs\", \"liblinear\"]}"
   ]
  },
  {
   "cell_type": "code",
   "execution_count": null,
   "id": "19d08be3",
   "metadata": {},
   "outputs": [],
   "source": [
    "lr = LogisticRegression(class_weight='balanced', random_state=0)\n",
    "lr_cv = GridSearchCV(estimator=lr, param_grid=grid_lr, scoring=\"recall\", cv=3)\n",
    "lr_cv.fit(X_train,y_train)"
   ]
  },
  {
   "cell_type": "code",
   "execution_count": null,
   "id": "5870b980",
   "metadata": {},
   "outputs": [],
   "source": [
    "lr_cv.best_params_"
   ]
  },
  {
   "cell_type": "code",
   "execution_count": null,
   "id": "a7bb8a82",
   "metadata": {},
   "outputs": [],
   "source": [
    "lr_cv.best_score_"
   ]
  },
  {
   "cell_type": "code",
   "execution_count": null,
   "id": "c6b2c699",
   "metadata": {},
   "outputs": [],
   "source": [
    "lr = LogisticRegression(class_weight='balanced', C=0.1, penalty='l2', solver='lbfgs', random_state=0)\n",
    "lr.fit(X_train,y_train)"
   ]
  },
  {
   "cell_type": "markdown",
   "id": "73c8efb9",
   "metadata": {},
   "source": [
    "#### 2- SGD Classifier"
   ]
  },
  {
   "cell_type": "code",
   "execution_count": null,
   "id": "5680a76b",
   "metadata": {},
   "outputs": [],
   "source": [
    "grid_sgd = {\"loss\": [\"hinge\", \"log\", \"modified_huber\"], \n",
    "           \"penalty\": [\"l1\",\"l2\",\"elasticnet\"],\n",
    "           \"alpha\": [0.0001, 0.001, 0.005, 0.01, 0.05, 0.1]}"
   ]
  },
  {
   "cell_type": "code",
   "execution_count": null,
   "id": "7c4a9a0a",
   "metadata": {},
   "outputs": [],
   "source": [
    "sgd = SGDClassifier(early_stopping=True, class_weight='balanced', random_state=0)\n",
    "sgd_cv = GridSearchCV(estimator=sgd, param_grid=grid_sgd, scoring=\"recall\", cv=3)\n",
    "sgd_cv.fit(X_train,y_train)"
   ]
  },
  {
   "cell_type": "code",
   "execution_count": null,
   "id": "7eeae808",
   "metadata": {},
   "outputs": [],
   "source": [
    "sgd_cv.best_params_"
   ]
  },
  {
   "cell_type": "code",
   "execution_count": null,
   "id": "4e0ba313",
   "metadata": {},
   "outputs": [],
   "source": [
    "sgd_cv.best_score_"
   ]
  },
  {
   "cell_type": "code",
   "execution_count": null,
   "id": "cfffabda",
   "metadata": {},
   "outputs": [],
   "source": [
    "sgd = SGDClassifier(early_stopping=True,\n",
    "                   random_state=0,\n",
    "                   alpha=0.005,\n",
    "                   loss=\"hinge\",\n",
    "                   penalty=\"l2\",\n",
    "                   class_weight='balanced')\n",
    "sgd.fit(X_train,y_train)"
   ]
  },
  {
   "cell_type": "markdown",
   "id": "0e9b7d8f",
   "metadata": {},
   "source": [
    "#### 3- Decision Tree"
   ]
  },
  {
   "cell_type": "code",
   "execution_count": null,
   "id": "30729538",
   "metadata": {},
   "outputs": [],
   "source": [
    "grid_dt = {\"criterion\": [\"gini\", \"entropy\", \"log_loss\"], \n",
    "           \"min_samples_split\": [2, 5, 10, 20],\n",
    "           \"splitter\": [\"best\", \"random\"]}"
   ]
  },
  {
   "cell_type": "code",
   "execution_count": null,
   "id": "35caa081",
   "metadata": {},
   "outputs": [],
   "source": [
    "dt = DecisionTreeClassifier(class_weight='balanced', random_state=0)\n",
    "dt_cv = GridSearchCV(estimator=dt, param_grid=grid_dt, scoring=\"recall\", cv=3)\n",
    "dt_cv.fit(X_train,y_train)"
   ]
  },
  {
   "cell_type": "code",
   "execution_count": null,
   "id": "aec1ca78",
   "metadata": {},
   "outputs": [],
   "source": [
    "dt_cv.best_params_"
   ]
  },
  {
   "cell_type": "code",
   "execution_count": null,
   "id": "2eea6d5c",
   "metadata": {},
   "outputs": [],
   "source": [
    "dt_cv.best_score_"
   ]
  },
  {
   "cell_type": "code",
   "execution_count": null,
   "id": "08e40a65",
   "metadata": {},
   "outputs": [],
   "source": [
    "dt = DecisionTreeClassifier(random_state=0,\n",
    "                           criterion=\"gini\",\n",
    "                           min_samples_split=2,\n",
    "                           splitter=\"random\",\n",
    "                           class_weight='balanced')\n",
    "dt.fit(X_train,y_train)"
   ]
  },
  {
   "cell_type": "markdown",
   "id": "5306c81e",
   "metadata": {},
   "source": [
    "#### 4- Random Forest"
   ]
  },
  {
   "cell_type": "code",
   "execution_count": null,
   "id": "a1f10143",
   "metadata": {},
   "outputs": [],
   "source": [
    "grid_rf = {\"criterion\": [\"gini\", \"entropy\", \"log_loss\"], \n",
    "           \"min_samples_split\": [2, 5, 10, 20],\n",
    "           \"n_estimators\": [100, 150, 200, 50, 20]}"
   ]
  },
  {
   "cell_type": "code",
   "execution_count": null,
   "id": "493fe8d8",
   "metadata": {},
   "outputs": [],
   "source": [
    "rf = RandomForestClassifier(class_weight='balanced', random_state=0)\n",
    "rf_cv = GridSearchCV(estimator=rf, param_grid=grid_rf, scoring=\"recall\", cv=3)\n",
    "rf_cv.fit(X_train,y_train)"
   ]
  },
  {
   "cell_type": "code",
   "execution_count": null,
   "id": "349727fb",
   "metadata": {},
   "outputs": [],
   "source": [
    "rf_cv.best_score_"
   ]
  },
  {
   "cell_type": "code",
   "execution_count": null,
   "id": "316194cc",
   "metadata": {},
   "outputs": [],
   "source": [
    "rf_cv.best_params_"
   ]
  },
  {
   "cell_type": "code",
   "execution_count": null,
   "id": "bc70e2ff",
   "metadata": {},
   "outputs": [],
   "source": [
    "rf = RandomForestClassifier(random_state=0,\n",
    "                           criterion=\"gini\",\n",
    "                           min_samples_split=2,\n",
    "                           n_estimators=150,\n",
    "                           class_weight='balanced')\n",
    "rf.fit(X_train,y_train)"
   ]
  },
  {
   "cell_type": "markdown",
   "id": "ba7e9f3a",
   "metadata": {},
   "source": [
    "#### 5- LightGBM"
   ]
  },
  {
   "cell_type": "code",
   "execution_count": null,
   "id": "7fa3c048",
   "metadata": {},
   "outputs": [],
   "source": [
    "grid_lgb = {'max_depth': [3,4,5],\n",
    "        'n_estimators': [100, 150, 200, 50, 20, 250],\n",
    "        'learning_rate': [0.01, 0.005, 0.1, 0.05, 0.02]}"
   ]
  },
  {
   "cell_type": "code",
   "execution_count": null,
   "id": "8a227e4c",
   "metadata": {},
   "outputs": [],
   "source": [
    "lgb_model = lgb.LGBMClassifier(class_weight='balanced', random_state=0)\n",
    "lgb_cv = GridSearchCV(estimator=lgb_model, param_grid=grid_lgb, scoring='recall', cv=3)\n",
    "lgb_cv.fit(X_train, y_train)"
   ]
  },
  {
   "cell_type": "code",
   "execution_count": null,
   "id": "3de69d08",
   "metadata": {},
   "outputs": [],
   "source": [
    "lgb_cv.best_score_"
   ]
  },
  {
   "cell_type": "code",
   "execution_count": null,
   "id": "e9ce1158",
   "metadata": {},
   "outputs": [],
   "source": [
    "lgb_cv.best_params_"
   ]
  },
  {
   "cell_type": "code",
   "execution_count": null,
   "id": "c3a2a8d9",
   "metadata": {},
   "outputs": [],
   "source": [
    "lgb = lgb.LGBMClassifier(random_state=0,\n",
    "                           learning_rate=0.1,\n",
    "                           max_depth=4,\n",
    "                           n_estimators=250, \n",
    "                           class_weight='balanced')\n",
    "lgb.fit(X_train,y_train)"
   ]
  },
  {
   "cell_type": "markdown",
   "id": "53beafe8",
   "metadata": {},
   "source": [
    "### II. Evaluation des modèles"
   ]
  },
  {
   "cell_type": "code",
   "execution_count": null,
   "id": "d09a4392",
   "metadata": {},
   "outputs": [],
   "source": [
    "print(\"La performance de la régression logisitique : \")\n",
    "score_classifier(X.values, lr, y.values)"
   ]
  },
  {
   "cell_type": "code",
   "execution_count": null,
   "id": "d58fb10e",
   "metadata": {},
   "outputs": [],
   "source": [
    "print(\"La performance du classifieur SGD: \")\n",
    "score_classifier(X.values, sgd, y.values)"
   ]
  },
  {
   "cell_type": "code",
   "execution_count": null,
   "id": "171bc940",
   "metadata": {},
   "outputs": [],
   "source": [
    "print(\"La performance de l'arbre de décision : \")\n",
    "score_classifier(X.values, dt, y.values)"
   ]
  },
  {
   "cell_type": "code",
   "execution_count": null,
   "id": "bacc3f54",
   "metadata": {},
   "outputs": [],
   "source": [
    "print(\"La performance de la forêt aléatoire : \")\n",
    "score_classifier(X.values, rf, y.values)"
   ]
  },
  {
   "cell_type": "code",
   "execution_count": null,
   "id": "7116324c",
   "metadata": {},
   "outputs": [],
   "source": [
    "print(\"La performance du LightGBM : \")\n",
    "score_classifier(X.values, lgb, y.values)"
   ]
  },
  {
   "cell_type": "markdown",
   "id": "24e07d62",
   "metadata": {},
   "source": [
    "Le modèle qui donne le meilleur rappel est le **`RandomForestClassifier`**."
   ]
  },
  {
   "cell_type": "code",
   "execution_count": null,
   "id": "590f8ba9",
   "metadata": {},
   "outputs": [],
   "source": []
  }
 ],
 "metadata": {
  "kernelspec": {
   "display_name": "venv",
   "language": "python",
   "name": "venv"
  },
  "language_info": {
   "codemirror_mode": {
    "name": "ipython",
    "version": 3
   },
   "file_extension": ".py",
   "mimetype": "text/x-python",
   "name": "python",
   "nbconvert_exporter": "python",
   "pygments_lexer": "ipython3",
   "version": "3.9.7"
  }
 },
 "nbformat": 4,
 "nbformat_minor": 5
}
