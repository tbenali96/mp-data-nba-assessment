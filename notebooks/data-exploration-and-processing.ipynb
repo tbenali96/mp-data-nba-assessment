{
 "cells": [
  {
   "cell_type": "markdown",
   "id": "6f7bfc8e",
   "metadata": {},
   "source": [
    "## Import des librairies"
   ]
  },
  {
   "cell_type": "code",
   "execution_count": null,
   "id": "bc9f8808",
   "metadata": {},
   "outputs": [],
   "source": [
    "import pandas as pd \n",
    "import plotly.express as px\n",
    "from sklearn.preprocessing import StandardScaler\n",
    "from pickle import dump\n",
    "\n",
    "pd.set_option('display.max_rows', None)\n",
    "pd.set_option('display.max_columns', None)"
   ]
  },
  {
   "cell_type": "markdown",
   "id": "0ec8d764",
   "metadata": {},
   "source": [
    "## Chargement des données"
   ]
  },
  {
   "cell_type": "code",
   "execution_count": null,
   "id": "57159c24",
   "metadata": {},
   "outputs": [],
   "source": [
    "data = pd.read_csv(\"../data/raw/nba_logreg.csv\")"
   ]
  },
  {
   "cell_type": "code",
   "execution_count": null,
   "id": "1931c54d",
   "metadata": {},
   "outputs": [],
   "source": [
    "data.head()"
   ]
  },
  {
   "cell_type": "code",
   "execution_count": null,
   "id": "ad3745d8",
   "metadata": {},
   "outputs": [],
   "source": [
    "sample = data.drop(columns=['TARGET_5Yrs']).head()\n",
    "sample.to_csv(\"../data/test/sample.csv\", index=False)"
   ]
  },
  {
   "cell_type": "code",
   "execution_count": null,
   "id": "e6baedd7",
   "metadata": {},
   "outputs": [],
   "source": [
    "print(f'Le jeu de données contient {data.shape[0]} lignes et {data.shape[1]} colonnes.')"
   ]
  },
  {
   "cell_type": "code",
   "execution_count": null,
   "id": "6c06393e",
   "metadata": {},
   "outputs": [],
   "source": [
    "data.dtypes"
   ]
  },
  {
   "cell_type": "markdown",
   "id": "e2c2c417",
   "metadata": {},
   "source": [
    "La variable `Name` n'est pas une variable pertinente. Pour commencer, on va donc la supprimer. "
   ]
  },
  {
   "cell_type": "code",
   "execution_count": null,
   "id": "dd69c710",
   "metadata": {},
   "outputs": [],
   "source": [
    "data = data.drop(columns=['Name'])\n",
    "data.head()"
   ]
  },
  {
   "cell_type": "code",
   "execution_count": null,
   "id": "05b376ee",
   "metadata": {},
   "outputs": [],
   "source": [
    "fig = px.histogram(data, x=\"PTS\" , color=\"TARGET_5Yrs\")\n",
    "fig.show()"
   ]
  },
  {
   "cell_type": "code",
   "execution_count": null,
   "id": "b1d4e992",
   "metadata": {},
   "outputs": [],
   "source": [
    "fig = px.pie(data, names='TARGET_5Yrs', title='Distribution of the target')\n",
    "fig.show()"
   ]
  },
  {
   "cell_type": "markdown",
   "id": "13171ea4",
   "metadata": {},
   "source": [
    "Le dataset n'est pas totalement équilibré mais il n'y a pas un grand déséquilibre des classes. "
   ]
  },
  {
   "cell_type": "markdown",
   "id": "138ada70",
   "metadata": {},
   "source": [
    "## Gestion des valeurs manquantes "
   ]
  },
  {
   "cell_type": "code",
   "execution_count": null,
   "id": "cf3ed240",
   "metadata": {},
   "outputs": [],
   "source": [
    "percent_missing = data.isnull().sum() * 100 / len(data)\n",
    "missing_value_data = pd.DataFrame({'column_name': data.columns,\n",
    "                                 'percent_missing': percent_missing})"
   ]
  },
  {
   "cell_type": "code",
   "execution_count": null,
   "id": "712451df",
   "metadata": {},
   "outputs": [],
   "source": [
    "missing_value_data"
   ]
  },
  {
   "cell_type": "markdown",
   "id": "a4f9bef6",
   "metadata": {},
   "source": [
    "Toutes les variables ne contiennent pas de valeurs manquantes sauf la variable `3P%` qui contient 0.82% de valeurs manquantes. La stratégie de la moyenne me paraît la plus simple et la plus pertinente. "
   ]
  },
  {
   "cell_type": "code",
   "execution_count": null,
   "id": "48c5468d",
   "metadata": {},
   "outputs": [],
   "source": [
    "data['3P%'] = data['3P%'].fillna(data['3P%'].mean())"
   ]
  },
  {
   "cell_type": "code",
   "execution_count": null,
   "id": "412fa67f",
   "metadata": {},
   "outputs": [],
   "source": [
    "data.head()"
   ]
  },
  {
   "cell_type": "markdown",
   "id": "b48d149e",
   "metadata": {},
   "source": [
    "## Réduction de la dimension"
   ]
  },
  {
   "cell_type": "markdown",
   "id": "07fcd6fd",
   "metadata": {},
   "source": [
    "On calcule la matrice de corrélation et on supprime les variables fortement corrélées : "
   ]
  },
  {
   "cell_type": "code",
   "execution_count": null,
   "id": "0d40d50f",
   "metadata": {},
   "outputs": [],
   "source": [
    "corrM = data.corr()\n",
    "fig = px.imshow(corrM, text_auto=True, aspect=\"auto\")\n",
    "fig.show()"
   ]
  },
  {
   "cell_type": "markdown",
   "id": "78354cdf",
   "metadata": {},
   "source": [
    "On remarque que les coefficients de corrélation entre la variable `MIN` et les variables `PTS`, `FGM`, `FGA` dépassent 0.9. On va donc supprimer ces trois dernières variables. "
   ]
  },
  {
   "cell_type": "code",
   "execution_count": null,
   "id": "87cc9e70",
   "metadata": {},
   "outputs": [],
   "source": [
    "data = data.drop(columns=['PTS', 'FGM', 'FGA'])\n",
    "data.head()"
   ]
  },
  {
   "cell_type": "code",
   "execution_count": null,
   "id": "70fc02ea",
   "metadata": {},
   "outputs": [],
   "source": [
    "data.shape"
   ]
  },
  {
   "cell_type": "code",
   "execution_count": null,
   "id": "ed9013fa",
   "metadata": {},
   "outputs": [],
   "source": [
    "corrM = data.corr()\n",
    "fig = px.imshow(corrM, text_auto=True, aspect=\"auto\")\n",
    "fig.show()"
   ]
  },
  {
   "cell_type": "markdown",
   "id": "fb973c1f",
   "metadata": {},
   "source": [
    "La variable `FTM` est fortement corrélée avec la variable `FTA`. Il faut donc en supprimer une. C'est également le cas pour les deux variables `3P Made` et `3PA` et les deux variables `REB` et `OREB`. "
   ]
  },
  {
   "cell_type": "code",
   "execution_count": null,
   "id": "8c195766",
   "metadata": {},
   "outputs": [],
   "source": [
    "data = data.drop(columns=['FTA', '3PA', 'OREB'])\n",
    "data.head()"
   ]
  },
  {
   "cell_type": "markdown",
   "id": "1a2be92b",
   "metadata": {},
   "source": [
    "## Standardisation des variables numériques"
   ]
  },
  {
   "cell_type": "code",
   "execution_count": null,
   "id": "47a12a49",
   "metadata": {},
   "outputs": [],
   "source": [
    "X = data.drop(columns=['TARGET_5Yrs'])\n",
    "numeric_columns = X.select_dtypes(['int64', 'float64']).columns"
   ]
  },
  {
   "cell_type": "code",
   "execution_count": null,
   "id": "1801e9a0",
   "metadata": {},
   "outputs": [],
   "source": [
    "scaler = StandardScaler()\n",
    "scaler.fit(data[numeric_columns])"
   ]
  },
  {
   "cell_type": "code",
   "execution_count": null,
   "id": "9cb6d98f",
   "metadata": {},
   "outputs": [],
   "source": [
    "data[numeric_columns] = scaler.transform(data[numeric_columns])"
   ]
  },
  {
   "cell_type": "code",
   "execution_count": null,
   "id": "300c77ff",
   "metadata": {},
   "outputs": [],
   "source": [
    "data.head()"
   ]
  },
  {
   "cell_type": "code",
   "execution_count": null,
   "id": "60d029a5",
   "metadata": {},
   "outputs": [],
   "source": [
    "dump(scaler, open('../models/scaler.pkl', 'wb'))"
   ]
  },
  {
   "cell_type": "code",
   "execution_count": null,
   "id": "337bc642",
   "metadata": {},
   "outputs": [],
   "source": [
    "data.to_csv(\"../data/processed/processed_data.csv\", index=False)"
   ]
  },
  {
   "cell_type": "code",
   "execution_count": null,
   "id": "00d8fdc3",
   "metadata": {},
   "outputs": [],
   "source": []
  }
 ],
 "metadata": {
  "kernelspec": {
   "display_name": "venv",
   "language": "python",
   "name": "venv"
  },
  "language_info": {
   "codemirror_mode": {
    "name": "ipython",
    "version": 3
   },
   "file_extension": ".py",
   "mimetype": "text/x-python",
   "name": "python",
   "nbconvert_exporter": "python",
   "pygments_lexer": "ipython3",
   "version": "3.9.7"
  }
 },
 "nbformat": 4,
 "nbformat_minor": 5
}
